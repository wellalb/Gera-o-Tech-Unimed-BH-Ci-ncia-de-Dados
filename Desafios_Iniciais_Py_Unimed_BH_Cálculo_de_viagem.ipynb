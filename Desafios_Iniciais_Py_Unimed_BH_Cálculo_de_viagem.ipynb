{
  "nbformat": 4,
  "nbformat_minor": 0,
  "metadata": {
    "colab": {
      "provenance": [],
      "collapsed_sections": [],
      "authorship_tag": "ABX9TyOfg0zp30znJ4OrAL3MyimU",
      "include_colab_link": true
    },
    "kernelspec": {
      "name": "python3",
      "display_name": "Python 3"
    },
    "language_info": {
      "name": "python"
    }
  },
  "cells": [
    {
      "cell_type": "markdown",
      "metadata": {
        "id": "view-in-github",
        "colab_type": "text"
      },
      "source": [
        "<a href=\"https://colab.research.google.com/github/wellalb/Geracao-Tech-Unimed-BH-Ciencia-de-Dados/blob/main/Desafios_Iniciais_Py_Unimed_BH_C%C3%A1lculo_de_viagem.ipynb\" target=\"_parent\"><img src=\"https://colab.research.google.com/assets/colab-badge.svg\" alt=\"Open In Colab\"/></a>"
      ]
    },
    {
      "cell_type": "markdown",
      "source": [
        "Desafio\n",
        "Rubens quer calcular e mostrar a quantidade de litros de combustível gastos em uma viagem de carro, sendo que seu carro faz 12 KM/L. Como ele não sabe fazer um programa que o auxilie nessa missão, ele te pede ajuda. Para efetuar o cálculo, deve-se fornecer o tempo gasto em horas na viagem e a velocidade média durante a mesma em km/h. Assim, você conseguirá passar para Rubens qual a distância percorrida e, em seguida, calcular quantos litros serão necessários para a viagem que ele quer fazer. Mostre o valor com 3 casas decimais após o ponto.\n",
        "\n",
        "Entrada\n",
        "O arquivo de entrada contém dois inteiros. O primeiro é o tempo gasto na viagem em horas e o segundo é a velocidade média durante a mesma em km/h.\n",
        "\n",
        "Saída\n",
        "Imprima a quantidade de litros necessária para realizar a viagem, com três dígitos após o ponto decimal.![image.png](data:image/png;base64,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)"
      ],
      "metadata": {
        "id": "572q6oEUMITC"
      }
    },
    {
      "cell_type": "code",
      "source": [
        "# DICAS SOBRE PYTHON:\n",
        "# FUNÇÃO input(): Ela recebe como parâmetro uma String que será visível ao usuário, \n",
        "# onde geralmente informa que tipo de informação ele está esperando receber;\n",
        "# FUNÇÃO print(): Ela é a responsável por imprimir os dados e informar os valores no terminal;\n",
        "# MÉTODO split(): permite dividir o conteúdo da variável de acordo com as condições especificadas \n",
        "# em cada parâmetro da função ou com os valores predefinidos por padrão;\n",
        "\n",
        "# Abaixo segue um exemplo de código que você pode ou não utilizar\n",
        "valores = input().split()\n",
        "\n",
        "# TODO:  Calcule quantidade de litros necessários para realizar a viagem e imprima com TRÊS dígitos após o ponto decimal\n",
        "tempo = int(valores[0])\n",
        "vel_Media = int(valores[1])\n",
        "consumo = 12\n",
        "litros = ((vel_Media*tempo)/consumo) # Consumo é dado por velocidade media em função do tempo de percurso, divido pelo consumo de Km/L\n",
        "print(f\"{litros:,.3f}\") #Printa o consumo em litros com 3 casas decimais"
      ],
      "metadata": {
        "colab": {
          "base_uri": "https://localhost:8080/"
        },
        "id": "y-0mIkXDMGfV",
        "outputId": "9779d2a3-e049-4d64-b315-5a5c37545edf"
      },
      "execution_count": 14,
      "outputs": [
        {
          "output_type": "stream",
          "name": "stdout",
          "text": [
            "22 67\n",
            "122.833\n"
          ]
        }
      ]
    }
  ]
}